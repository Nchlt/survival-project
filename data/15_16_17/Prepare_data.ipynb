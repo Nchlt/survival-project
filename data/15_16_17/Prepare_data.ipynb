{
 "cells": [
  {
   "cell_type": "markdown",
   "metadata": {},
   "source": [
    "# Data preparation for Blackblaze hardrives dataset \n",
    "\n",
    "After agregating the data from 2015, 2016 and 2017 we now prepare it in this notebook for later survival analysis.\n",
    "\n",
    "This notebook was heavily inspired by a tutorial from Jonathan Sedar : https://blog.applied.ai/survival-analysis-part2/"
   ]
  },
  {
   "cell_type": "code",
   "execution_count": 45,
   "metadata": {
    "collapsed": true
   },
   "outputs": [],
   "source": [
    "## Interactive magics - comment out if running from another script\n",
    "%matplotlib inline\n",
    "#%qtconsole --colors=linux --ConsoleWidget.font_size=12 --ConsoleWidget.font_family='Consolas'"
   ]
  },
  {
   "cell_type": "code",
   "execution_count": 46,
   "metadata": {
    "collapsed": true
   },
   "outputs": [],
   "source": [
    "from collections import OrderedDict\n",
    "import re\n",
    "import sqlite3\n",
    "\n",
    "import numpy as np\n",
    "import matplotlib.pyplot as plt\n",
    "import pandas as pd\n",
    "import seaborn as sns\n",
    "from sklearn.cross_validation import StratifiedShuffleSplit\n",
    "import triangle\n",
    "\n",
    "# suppress warnings\n",
    "import warnings\n",
    "warnings.filterwarnings('ignore')\n",
    "\n",
    "# Set default styles for plotting via pandas, seaborn and matplotlib\n",
    "pd.set_option('display.mpl_style', 'default')\n",
    "pd.set_option('display.notebook_repr_html', True)\n",
    "sns.set(style='darkgrid')\n",
    "cmap_clrbld = ['#777777','#E69F00','#56B4E9','#D3C511'\n",
    "               ,'#009E73','#8D42F0','#0072B2','#D55E00','#CC79A7']\n",
    "plt.rcParams['axes.color_cycle'] = cmap_clrbld\n",
    "plt.rcParams['figure.figsize'] = 10, 6\n",
    "\n",
    "np.random.seed(0)\n"
   ]
  },
  {
   "cell_type": "code",
   "execution_count": 47,
   "metadata": {},
   "outputs": [
    {
     "name": "stdout",
     "output_type": "stream",
     "text": [
      "(122181, 8)\n"
     ]
    },
    {
     "data": {
      "text/html": [
       "<div>\n",
       "<style>\n",
       "    .dataframe thead tr:only-child th {\n",
       "        text-align: right;\n",
       "    }\n",
       "\n",
       "    .dataframe thead th {\n",
       "        text-align: left;\n",
       "    }\n",
       "\n",
       "    .dataframe tbody tr th {\n",
       "        vertical-align: top;\n",
       "    }\n",
       "</style>\n",
       "<table border=\"1\" class=\"dataframe\">\n",
       "  <thead>\n",
       "    <tr style=\"text-align: right;\">\n",
       "      <th></th>\n",
       "      <th>model</th>\n",
       "      <th>capacitybytes</th>\n",
       "      <th>mindate</th>\n",
       "      <th>maxdate</th>\n",
       "      <th>nrecords</th>\n",
       "      <th>minhours</th>\n",
       "      <th>maxhours</th>\n",
       "      <th>failed</th>\n",
       "    </tr>\n",
       "    <tr>\n",
       "      <th>diskid</th>\n",
       "      <th></th>\n",
       "      <th></th>\n",
       "      <th></th>\n",
       "      <th></th>\n",
       "      <th></th>\n",
       "      <th></th>\n",
       "      <th></th>\n",
       "      <th></th>\n",
       "    </tr>\n",
       "  </thead>\n",
       "  <tbody>\n",
       "    <tr>\n",
       "      <th></th>\n",
       "      <td>00MD00</td>\n",
       "      <td>4000787030016</td>\n",
       "      <td>2017-04-12</td>\n",
       "      <td>2017-04-18</td>\n",
       "      <td>7</td>\n",
       "      <td>14333</td>\n",
       "      <td>14476</td>\n",
       "      <td>0</td>\n",
       "    </tr>\n",
       "    <tr>\n",
       "      <th>0F112CC45</th>\n",
       "      <td>00MD00</td>\n",
       "      <td>4000787030016</td>\n",
       "      <td>2017-04-12</td>\n",
       "      <td>2017-04-18</td>\n",
       "      <td>7</td>\n",
       "      <td>14334</td>\n",
       "      <td>14476</td>\n",
       "      <td>0</td>\n",
       "    </tr>\n",
       "    <tr>\n",
       "      <th>13H2B97AS</th>\n",
       "      <td>TOSHIBA DT01ACA300</td>\n",
       "      <td>3000592982016</td>\n",
       "      <td>2015-04-21</td>\n",
       "      <td>2017-07-25</td>\n",
       "      <td>911</td>\n",
       "      <td>10153</td>\n",
       "      <td>29961</td>\n",
       "      <td>0</td>\n",
       "    </tr>\n",
       "    <tr>\n",
       "      <th>13H32WEAS</th>\n",
       "      <td>TOSHIBA DT01ACA300</td>\n",
       "      <td>3000592982016</td>\n",
       "      <td>2015-01-01</td>\n",
       "      <td>2017-08-03</td>\n",
       "      <td>1030</td>\n",
       "      <td>14765</td>\n",
       "      <td>37431</td>\n",
       "      <td>0</td>\n",
       "    </tr>\n",
       "    <tr>\n",
       "      <th>13H6A21GS</th>\n",
       "      <td>TOSHIBA DT01ACA300</td>\n",
       "      <td>3000592982016</td>\n",
       "      <td>2015-01-01</td>\n",
       "      <td>2017-08-18</td>\n",
       "      <td>1045</td>\n",
       "      <td>14133</td>\n",
       "      <td>37155</td>\n",
       "      <td>0</td>\n",
       "    </tr>\n",
       "  </tbody>\n",
       "</table>\n",
       "</div>"
      ],
      "text/plain": [
       "                        model  capacitybytes    mindate    maxdate  nrecords  \\\n",
       "diskid                                                                         \n",
       "                       00MD00  4000787030016 2017-04-12 2017-04-18         7   \n",
       "0F112CC45              00MD00  4000787030016 2017-04-12 2017-04-18         7   \n",
       "13H2B97AS  TOSHIBA DT01ACA300  3000592982016 2015-04-21 2017-07-25       911   \n",
       "13H32WEAS  TOSHIBA DT01ACA300  3000592982016 2015-01-01 2017-08-03      1030   \n",
       "13H6A21GS  TOSHIBA DT01ACA300  3000592982016 2015-01-01 2017-08-18      1045   \n",
       "\n",
       "          minhours maxhours  failed  \n",
       "diskid                               \n",
       "             14333    14476       0  \n",
       "0F112CC45    14334    14476       0  \n",
       "13H2B97AS    10153    29961       0  \n",
       "13H32WEAS    14765    37431       0  \n",
       "13H6A21GS    14133    37155       0  "
      ]
     },
     "execution_count": 47,
     "metadata": {},
     "output_type": "execute_result"
    }
   ],
   "source": [
    "cnx = sqlite3.connect('drive_stats.db')\n",
    "csr = cnx.cursor()\n",
    "df = pd.read_sql('select * from drive_survival', con=cnx\n",
    "                 ,index_col='diskid', parse_dates=['mindate','maxdate'])\n",
    "print(df.shape)\n",
    "df.head() "
   ]
  },
  {
   "cell_type": "code",
   "execution_count": 48,
   "metadata": {},
   "outputs": [
    {
     "name": "stdout",
     "output_type": "stream",
     "text": [
      "(122181, 8)\n"
     ]
    },
    {
     "data": {
      "text/plain": [
       "model                    object\n",
       "capacitybytes             int64\n",
       "mindate          datetime64[ns]\n",
       "maxdate          datetime64[ns]\n",
       "nrecords                  int64\n",
       "minhours                 object\n",
       "maxhours                 object\n",
       "failed                    int64\n",
       "dtype: object"
      ]
     },
     "execution_count": 48,
     "metadata": {},
     "output_type": "execute_result"
    }
   ],
   "source": [
    "print(df.shape)\n",
    "df.head()\n",
    "df.dtypes"
   ]
  },
  {
   "cell_type": "code",
   "execution_count": 49,
   "metadata": {},
   "outputs": [
    {
     "data": {
      "text/plain": [
       "(121786, 8)"
      ]
     },
     "execution_count": 49,
     "metadata": {},
     "output_type": "execute_result"
    }
   ],
   "source": [
    "# Removing disk that failed more than once\n",
    "df = df.loc[df['failed'] <=1]\n",
    "df.shape"
   ]
  },
  {
   "cell_type": "code",
   "execution_count": 50,
   "metadata": {},
   "outputs": [
    {
     "data": {
      "text/plain": [
       "capacitybytes\n",
       "-9116022715867848704        1\n",
       "-1                       2715\n",
       " 80026361856               79\n",
       " 137438952960               4\n",
       " 160041885696             213\n",
       " 250000000000               1\n",
       " 250059350016             111\n",
       " 320072933376             100\n",
       " 500107862016            1839\n",
       " 1000204886016            640\n",
       " 1500301910016           2032\n",
       " 2000398934016           4933\n",
       " 3000592982016           8367\n",
       " 4000787030016          65182\n",
       " 5000981078016             46\n",
       " 6001175126016           2447\n",
       " 8001563222016          24611\n",
       " 10000831348736          1223\n",
       " 12000138625024          7242\n",
       "dtype: int64"
      ]
     },
     "execution_count": 50,
     "metadata": {},
     "output_type": "execute_result"
    }
   ],
   "source": [
    "df.groupby('capacitybytes').size()"
   ]
  },
  {
   "cell_type": "code",
   "execution_count": 51,
   "metadata": {},
   "outputs": [
    {
     "name": "stdout",
     "output_type": "stream",
     "text": [
      "(117876, 8)\n"
     ]
    },
    {
     "data": {
      "text/plain": [
       "capacitybytes\n",
       "500107862016       1839\n",
       "1500301910016      2032\n",
       "2000398934016      4933\n",
       "3000592982016      8367\n",
       "4000787030016     65182\n",
       "6001175126016      2447\n",
       "8001563222016     24611\n",
       "10000831348736     1223\n",
       "12000138625024     7242\n",
       "dtype: int64"
      ]
     },
     "execution_count": 51,
     "metadata": {},
     "output_type": "execute_result"
    }
   ],
   "source": [
    "# Remove drives that have -1 capacity and drives that dont have enough examples\n",
    "capacities = [500107862016, 1500301910016,4000787030016, 8001563222016, 3000592982016,\n",
    "              12000138625024, 10000831348736, 6001175126016, 2000398934016]\n",
    "df = df[df['capacitybytes'].isin(capacities)]\n",
    "print(df.shape)\n",
    "df.groupby('capacitybytes').size()"
   ]
  },
  {
   "cell_type": "code",
   "execution_count": 52,
   "metadata": {
    "scrolled": true
   },
   "outputs": [
    {
     "data": {
      "text/plain": [
       "model\n",
       " 00MD00                        2\n",
       "HGST HDS5C4040ALE630         118\n",
       "HGST HDS724040ALE640          42\n",
       "HGST HMS5C4040ALE640        8659\n",
       "HGST HMS5C4040BLE640       16298\n",
       "HGST HUH728080ALE600          72\n",
       "HGST HUS726040ALE610          32\n",
       "Hitachi HDS5C3030ALA630     4597\n",
       "Hitachi HDS5C3030BLE630        1\n",
       "Hitachi HDS5C4040ALE630     2659\n",
       "Hitachi HDS722020ALA330     4663\n",
       "Hitachi HDS723020BLA642        9\n",
       "Hitachi HDS723030ALA640     1010\n",
       "Hitachi HDS723030BLE640       10\n",
       "Hitachi HDS724040ALE640        3\n",
       "SAMSUNG HD154UI                2\n",
       "ST10000NM0086               1223\n",
       "ST12000NM0007               7242\n",
       "ST1500DL001                    2\n",
       "ST1500DL003                   24\n",
       "ST1500DM003                    3\n",
       "ST2000DL001                    1\n",
       "ST2000DL003                    2\n",
       "ST2000VN000                   10\n",
       "ST3000DM001                 1168\n",
       "ST31500341AS                 307\n",
       "ST31500541AS                1693\n",
       "ST32000542AS                  83\n",
       "ST320005XXXX                   2\n",
       "ST33000651AS                 279\n",
       "ST3500320AS                    1\n",
       "ST4000DM000                36469\n",
       "ST4000DM001                  425\n",
       "ST4000DM005                   61\n",
       "ST4000DX000                  209\n",
       "ST4000DX002                    7\n",
       "ST500LM012 HN                802\n",
       "ST6000DM001                   15\n",
       "ST6000DM004                    2\n",
       "ST6000DX000                 1932\n",
       "ST8000DM002                10025\n",
       "ST8000DM005                    5\n",
       "ST8000NM0055               14509\n",
       "TOSHIBA DT01ACA300            52\n",
       "TOSHIBA HDWE160                1\n",
       "TOSHIBA MD04ABA400V          150\n",
       "TOSHIBA MQ01ABF050           450\n",
       "TOSHIBA MQ01ABF050M          152\n",
       "WDC WD15EARS                   1\n",
       "WDC WD20EFRX                 163\n",
       "WDC WD30EFRX                1249\n",
       "WDC WD30EZRX                   1\n",
       "WDC WD40EFRX                  48\n",
       "WDC WD5000AAJS                 1\n",
       "WDC WD5000BPKT                24\n",
       "WDC WD5000LPCX                57\n",
       "WDC WD5000LPVX               346\n",
       "WDC WD5002ABYS                 4\n",
       "WDC WD5003ABYX                 2\n",
       "WDC WD60EFRX                 497\n",
       "dtype: int64"
      ]
     },
     "execution_count": 52,
     "metadata": {},
     "output_type": "execute_result"
    }
   ],
   "source": [
    "df.groupby(['model']).size()"
   ]
  },
  {
   "cell_type": "code",
   "execution_count": 53,
   "metadata": {},
   "outputs": [
    {
     "data": {
      "text/plain": [
       "manufacturer  model          \n",
       "00MD00         00MD00                2\n",
       "HGST          HDS5C3030ALA630     4597\n",
       "              HDS5C3030BLE630        1\n",
       "              HDS5C4040ALE630     2777\n",
       "              HDS722020ALA330     4663\n",
       "              HDS723020BLA642        9\n",
       "              HDS723030ALA640     1010\n",
       "              HDS723030BLE640       10\n",
       "              HDS724040ALE640       45\n",
       "              HMS5C4040ALE640     8659\n",
       "              HMS5C4040BLE640    16298\n",
       "              HUH728080ALE600       72\n",
       "              HUS726040ALE610       32\n",
       "SAMSUNG       HD154UI                2\n",
       "SEAGATE       HN                   802\n",
       "              ST10000NM0086       1223\n",
       "              ST12000NM0007       7242\n",
       "              ST1500DL001            2\n",
       "              ST1500DL003           24\n",
       "              ST1500DM003            3\n",
       "              ST2000DL001            1\n",
       "              ST2000DL003            2\n",
       "              ST2000VN000           10\n",
       "              ST3000DM001         1168\n",
       "              ST31500341AS         307\n",
       "              ST31500541AS        1693\n",
       "              ST32000542AS          83\n",
       "              ST320005XXXX           2\n",
       "              ST33000651AS         279\n",
       "              ST3500320AS            1\n",
       "              ST4000DM000        36469\n",
       "              ST4000DM001          425\n",
       "              ST4000DM005           61\n",
       "              ST4000DX000          209\n",
       "              ST4000DX002            7\n",
       "              ST6000DM001           15\n",
       "              ST6000DM004            2\n",
       "              ST6000DX000         1932\n",
       "              ST8000DM002        10025\n",
       "              ST8000DM005            5\n",
       "              ST8000NM0055       14509\n",
       "TOSHIBA       DT01ACA300            52\n",
       "              HDWE160                1\n",
       "              MD04ABA400V          150\n",
       "              MQ01ABF050           450\n",
       "              MQ01ABF050M          152\n",
       "WDC           WD15EARS               1\n",
       "              WD20EFRX             163\n",
       "              WD30EFRX            1249\n",
       "              WD30EZRX               1\n",
       "              WD40EFRX              48\n",
       "              WD5000AAJS             1\n",
       "              WD5000BPKT            24\n",
       "              WD5000LPCX            57\n",
       "              WD5000LPVX           346\n",
       "              WD5002ABYS             4\n",
       "              WD5003ABYX             2\n",
       "              WD60EFRX             497\n",
       "dtype: int64"
      ]
     },
     "execution_count": 53,
     "metadata": {},
     "output_type": "execute_result"
    }
   ],
   "source": [
    "# In the database manufacturer info in with model we need to split them in two features\n",
    "df['manufacturer'] = df['model'].apply(lambda x: x.split()[0])\n",
    "df['model'] = df['model'].apply(lambda x: x.split()[1] if len(x.split()) > 1 else x)\n",
    "df['manufacturer'] = df['manufacturer'].apply(lambda x: 'SEAGATE' if x[:2] == 'ST' else x)\n",
    "# HGST is Hitachi\n",
    "df.loc[df['manufacturer'] == 'Hitachi','manufacturer'] = 'HGST'\n",
    "df.groupby(['manufacturer','model']).size()"
   ]
  },
  {
   "cell_type": "code",
   "execution_count": 54,
   "metadata": {},
   "outputs": [
    {
     "data": {
      "text/plain": [
       "manufacturer  model          \n",
       "HGST          HDS5C3030ALA630     4597\n",
       "              HDS5C3030BLE630        1\n",
       "              HDS5C4040ALE630     2777\n",
       "              HDS722020ALA330     4663\n",
       "              HDS723020BLA642        9\n",
       "              HDS723030ALA640     1010\n",
       "              HDS723030BLE640       10\n",
       "              HDS724040ALE640       45\n",
       "              HMS5C4040ALE640     8659\n",
       "              HMS5C4040BLE640    16298\n",
       "              HUH728080ALE600       72\n",
       "              HUS726040ALE610       32\n",
       "SAMSUNG       HD154UI                2\n",
       "SEAGATE       HN                   802\n",
       "              ST10000NM0086       1223\n",
       "              ST12000NM0007       7242\n",
       "              ST1500DL001            2\n",
       "              ST1500DL003           24\n",
       "              ST1500DM003            3\n",
       "              ST2000DL001            1\n",
       "              ST2000DL003            2\n",
       "              ST2000VN000           10\n",
       "              ST3000DM001         1168\n",
       "              ST31500341AS         307\n",
       "              ST31500541AS        1693\n",
       "              ST32000542AS          83\n",
       "              ST320005XXXX           2\n",
       "              ST33000651AS         279\n",
       "              ST3500320AS            1\n",
       "              ST4000DM000        36469\n",
       "              ST4000DM001          425\n",
       "              ST4000DM005           61\n",
       "              ST4000DX000          209\n",
       "              ST4000DX002            7\n",
       "              ST6000DM001           15\n",
       "              ST6000DM004            2\n",
       "              ST6000DX000         1932\n",
       "              ST8000DM002        10025\n",
       "              ST8000DM005            5\n",
       "              ST8000NM0055       14509\n",
       "TOSHIBA       DT01ACA300            52\n",
       "              HDWE160                1\n",
       "              MD04ABA400V          150\n",
       "              MQ01ABF050           450\n",
       "              MQ01ABF050M          152\n",
       "WDC           WD15EARS               1\n",
       "              WD20EFRX             163\n",
       "              WD30EFRX            1249\n",
       "              WD30EZRX               1\n",
       "              WD40EFRX              48\n",
       "              WD5000AAJS             1\n",
       "              WD5000BPKT            24\n",
       "              WD5000LPCX            57\n",
       "              WD5000LPVX           346\n",
       "              WD5002ABYS             4\n",
       "              WD5003ABYX             2\n",
       "              WD60EFRX             497\n",
       "dtype: int64"
      ]
     },
     "execution_count": 54,
     "metadata": {},
     "output_type": "execute_result"
    }
   ],
   "source": [
    "# We remove manufacturer 00MD00, seems weird, only 2 disks anyways\n",
    "df = df.loc[df['manufacturer'] != '00MD00']\n",
    "df.groupby(['manufacturer','model']).size()"
   ]
  },
  {
   "cell_type": "code",
   "execution_count": 55,
   "metadata": {},
   "outputs": [
    {
     "data": {
      "text/plain": [
       "capacity\n",
       "0.5TB      1839\n",
       "1.5TB      2032\n",
       "10.0TB     1223\n",
       "12.0TB     7242\n",
       "2.0TB      4933\n",
       "3.0TB      8367\n",
       "4.0TB     65180\n",
       "6.0TB      2447\n",
       "8.0TB     24611\n",
       "dtype: int64"
      ]
     },
     "execution_count": 55,
     "metadata": {},
     "output_type": "execute_result"
    }
   ],
   "source": [
    "# Make capacity human readable \n",
    "df['capacity'] = df['capacitybytes'].apply(lambda x: '{}TB'.format(round(x / 1e12,2)))\n",
    "df.groupby(['capacity']).size()"
   ]
  },
  {
   "cell_type": "code",
   "execution_count": 56,
   "metadata": {},
   "outputs": [
    {
     "data": {
      "image/png": "[encoded data removed]",
      "text/plain": [
       "<matplotlib.figure.Figure at 0x120a82978>"
      ]
     },
     "metadata": {},
     "output_type": "display_data"
    }
   ],
   "source": [
    "# Remove too small groups by manufacturer \n",
    "gp = df.groupby(['manufacturer','capacity']).size().unstack()\n",
    "fig, axes = plt.subplots(nrows=1, ncols=1, figsize=(6,6), squeeze=False)\n",
    "ax = sns.heatmap(gp, mask=pd.isnull(gp), ax=axes[0,0],robust=True, square=True, cbar=False)"
   ]
  },
  {
   "cell_type": "code",
   "execution_count": 57,
   "metadata": {
    "collapsed": true
   },
   "outputs": [],
   "source": [
    "# Feature engineering date year month\n",
    "df['mindateym'] = df['mindate'].apply(lambda x: x.strftime('%Y%m'))\n",
    "df['maxdateym'] = df['maxdate'].apply(lambda x: x.strftime('%Y%m'))\n"
   ]
  },
  {
   "cell_type": "code",
   "execution_count": 58,
   "metadata": {},
   "outputs": [
    {
     "data": {
      "text/html": [
       "<div>\n",
       "<style>\n",
       "    .dataframe thead tr:only-child th {\n",
       "        text-align: right;\n",
       "    }\n",
       "\n",
       "    .dataframe thead th {\n",
       "        text-align: left;\n",
       "    }\n",
       "\n",
       "    .dataframe tbody tr th {\n",
       "        vertical-align: top;\n",
       "    }\n",
       "</style>\n",
       "<table border=\"1\" class=\"dataframe\">\n",
       "  <thead>\n",
       "    <tr style=\"text-align: right;\">\n",
       "      <th></th>\n",
       "      <th>model</th>\n",
       "      <th>capacitybytes</th>\n",
       "      <th>mindate</th>\n",
       "      <th>maxdate</th>\n",
       "      <th>nrecords</th>\n",
       "      <th>minhours</th>\n",
       "      <th>maxhours</th>\n",
       "      <th>failed</th>\n",
       "      <th>manufacturer</th>\n",
       "      <th>capacity</th>\n",
       "      <th>mindateym</th>\n",
       "      <th>maxdateym</th>\n",
       "    </tr>\n",
       "    <tr>\n",
       "      <th>diskid</th>\n",
       "      <th></th>\n",
       "      <th></th>\n",
       "      <th></th>\n",
       "      <th></th>\n",
       "      <th></th>\n",
       "      <th></th>\n",
       "      <th></th>\n",
       "      <th></th>\n",
       "      <th></th>\n",
       "      <th></th>\n",
       "      <th></th>\n",
       "      <th></th>\n",
       "    </tr>\n",
       "  </thead>\n",
       "  <tbody>\n",
       "    <tr>\n",
       "      <th>13H2B97AS</th>\n",
       "      <td>DT01ACA300</td>\n",
       "      <td>3000592982016</td>\n",
       "      <td>2015-04-21</td>\n",
       "      <td>2017-07-25</td>\n",
       "      <td>911</td>\n",
       "      <td>10153</td>\n",
       "      <td>29961</td>\n",
       "      <td>0</td>\n",
       "      <td>TOSHIBA</td>\n",
       "      <td>3.0TB</td>\n",
       "      <td>201504</td>\n",
       "      <td>201707</td>\n",
       "    </tr>\n",
       "    <tr>\n",
       "      <th>13H32WEAS</th>\n",
       "      <td>DT01ACA300</td>\n",
       "      <td>3000592982016</td>\n",
       "      <td>2015-01-01</td>\n",
       "      <td>2017-08-03</td>\n",
       "      <td>1030</td>\n",
       "      <td>14765</td>\n",
       "      <td>37431</td>\n",
       "      <td>0</td>\n",
       "      <td>TOSHIBA</td>\n",
       "      <td>3.0TB</td>\n",
       "      <td>201501</td>\n",
       "      <td>201708</td>\n",
       "    </tr>\n",
       "    <tr>\n",
       "      <th>13H6A21GS</th>\n",
       "      <td>DT01ACA300</td>\n",
       "      <td>3000592982016</td>\n",
       "      <td>2015-01-01</td>\n",
       "      <td>2017-08-18</td>\n",
       "      <td>1045</td>\n",
       "      <td>14133</td>\n",
       "      <td>37155</td>\n",
       "      <td>0</td>\n",
       "      <td>TOSHIBA</td>\n",
       "      <td>3.0TB</td>\n",
       "      <td>201501</td>\n",
       "      <td>201708</td>\n",
       "    </tr>\n",
       "    <tr>\n",
       "      <th>13H7X2HAS</th>\n",
       "      <td>DT01ACA300</td>\n",
       "      <td>3000592982016</td>\n",
       "      <td>2015-12-17</td>\n",
       "      <td>2017-04-26</td>\n",
       "      <td>583</td>\n",
       "      <td>9775</td>\n",
       "      <td>21667</td>\n",
       "      <td>0</td>\n",
       "      <td>TOSHIBA</td>\n",
       "      <td>3.0TB</td>\n",
       "      <td>201512</td>\n",
       "      <td>201704</td>\n",
       "    </tr>\n",
       "    <tr>\n",
       "      <th>13H80PNGS</th>\n",
       "      <td>DT01ACA300</td>\n",
       "      <td>3000592982016</td>\n",
       "      <td>2015-01-01</td>\n",
       "      <td>2015-08-13</td>\n",
       "      <td>225</td>\n",
       "      <td>11765</td>\n",
       "      <td>17138</td>\n",
       "      <td>0</td>\n",
       "      <td>TOSHIBA</td>\n",
       "      <td>3.0TB</td>\n",
       "      <td>201501</td>\n",
       "      <td>201508</td>\n",
       "    </tr>\n",
       "  </tbody>\n",
       "</table>\n",
       "</div>"
      ],
      "text/plain": [
       "                model  capacitybytes    mindate    maxdate  nrecords minhours  \\\n",
       "diskid                                                                          \n",
       "13H2B97AS  DT01ACA300  3000592982016 2015-04-21 2017-07-25       911    10153   \n",
       "13H32WEAS  DT01ACA300  3000592982016 2015-01-01 2017-08-03      1030    14765   \n",
       "13H6A21GS  DT01ACA300  3000592982016 2015-01-01 2017-08-18      1045    14133   \n",
       "13H7X2HAS  DT01ACA300  3000592982016 2015-12-17 2017-04-26       583     9775   \n",
       "13H80PNGS  DT01ACA300  3000592982016 2015-01-01 2015-08-13       225    11765   \n",
       "\n",
       "          maxhours  failed manufacturer capacity mindateym maxdateym  \n",
       "diskid                                                                \n",
       "13H2B97AS    29961       0      TOSHIBA    3.0TB    201504    201707  \n",
       "13H32WEAS    37431       0      TOSHIBA    3.0TB    201501    201708  \n",
       "13H6A21GS    37155       0      TOSHIBA    3.0TB    201501    201708  \n",
       "13H7X2HAS    21667       0      TOSHIBA    3.0TB    201512    201704  \n",
       "13H80PNGS    17138       0      TOSHIBA    3.0TB    201501    201508  "
      ]
     },
     "execution_count": 58,
     "metadata": {},
     "output_type": "execute_result"
    }
   ],
   "source": [
    "df.head()"
   ]
  },
  {
   "cell_type": "code",
   "execution_count": 59,
   "metadata": {},
   "outputs": [
    {
     "data": {
      "image/png": "[encoded data removed]",
      "text/plain": [
       "<matplotlib.figure.Figure at 0x131d83ef0>"
      ]
     },
     "metadata": {},
     "output_type": "display_data"
    }
   ],
   "source": [
    "gp = df.groupby(['mindateym','maxdateym']).size().unstack()\n",
    "fig, axes = plt.subplots(nrows=1, ncols=1, figsize=(10,10), squeeze=False)\n",
    "ax = sns.heatmap(gp, mask=pd.isnull(gp), ax=axes[0,0],robust=True, square=True, cbar=False)"
   ]
  },
  {
   "cell_type": "code",
   "execution_count": 60,
   "metadata": {},
   "outputs": [
    {
     "name": "stdout",
     "output_type": "stream",
     "text": [
      "117874\n",
      "117874\n",
      "117840\n"
     ]
    },
    {
     "data": {
      "text/plain": [
       "(117840, 12)"
      ]
     },
     "execution_count": 60,
     "metadata": {},
     "output_type": "execute_result"
    }
   ],
   "source": [
    "# Mitagation of left truncation we use SMART_9_RAW\n",
    "# Remove the rows that don't have minhours maxours info\n",
    "print(df.shape[0])\n",
    "print(df['minhours'].apply(np.isreal).sum())\n",
    "print(df['maxhours'].apply(np.isreal).sum()) \n",
    "\n",
    "df = df.loc[df['maxhours'].apply(np.isreal)].copy()\n",
    "df.shape\n"
   ]
  },
  {
   "cell_type": "code",
   "execution_count": 61,
   "metadata": {},
   "outputs": [
    {
     "data": {
      "text/html": [
       "<div>\n",
       "<style>\n",
       "    .dataframe thead tr:only-child th {\n",
       "        text-align: right;\n",
       "    }\n",
       "\n",
       "    .dataframe thead th {\n",
       "        text-align: left;\n",
       "    }\n",
       "\n",
       "    .dataframe tbody tr th {\n",
       "        vertical-align: top;\n",
       "    }\n",
       "</style>\n",
       "<table border=\"1\" class=\"dataframe\">\n",
       "  <thead>\n",
       "    <tr style=\"text-align: right;\">\n",
       "      <th></th>\n",
       "      <th>model</th>\n",
       "      <th>capacitybytes</th>\n",
       "      <th>mindate</th>\n",
       "      <th>maxdate</th>\n",
       "      <th>nrecords</th>\n",
       "      <th>minhours</th>\n",
       "      <th>maxhours</th>\n",
       "      <th>failed</th>\n",
       "      <th>manufacturer</th>\n",
       "      <th>capacity</th>\n",
       "      <th>mindateym</th>\n",
       "      <th>maxdateym</th>\n",
       "    </tr>\n",
       "    <tr>\n",
       "      <th>diskid</th>\n",
       "      <th></th>\n",
       "      <th></th>\n",
       "      <th></th>\n",
       "      <th></th>\n",
       "      <th></th>\n",
       "      <th></th>\n",
       "      <th></th>\n",
       "      <th></th>\n",
       "      <th></th>\n",
       "      <th></th>\n",
       "      <th></th>\n",
       "      <th></th>\n",
       "    </tr>\n",
       "  </thead>\n",
       "  <tbody>\n",
       "    <tr>\n",
       "      <th>13H2B97AS</th>\n",
       "      <td>DT01ACA300</td>\n",
       "      <td>3000592982016</td>\n",
       "      <td>2015-04-21</td>\n",
       "      <td>2017-07-25</td>\n",
       "      <td>911</td>\n",
       "      <td>10153</td>\n",
       "      <td>29961</td>\n",
       "      <td>0</td>\n",
       "      <td>TOSHIBA</td>\n",
       "      <td>3.0TB</td>\n",
       "      <td>201504</td>\n",
       "      <td>201707</td>\n",
       "    </tr>\n",
       "    <tr>\n",
       "      <th>13H32WEAS</th>\n",
       "      <td>DT01ACA300</td>\n",
       "      <td>3000592982016</td>\n",
       "      <td>2015-01-01</td>\n",
       "      <td>2017-08-03</td>\n",
       "      <td>1030</td>\n",
       "      <td>14765</td>\n",
       "      <td>37431</td>\n",
       "      <td>0</td>\n",
       "      <td>TOSHIBA</td>\n",
       "      <td>3.0TB</td>\n",
       "      <td>201501</td>\n",
       "      <td>201708</td>\n",
       "    </tr>\n",
       "    <tr>\n",
       "      <th>13H6A21GS</th>\n",
       "      <td>DT01ACA300</td>\n",
       "      <td>3000592982016</td>\n",
       "      <td>2015-01-01</td>\n",
       "      <td>2017-08-18</td>\n",
       "      <td>1045</td>\n",
       "      <td>14133</td>\n",
       "      <td>37155</td>\n",
       "      <td>0</td>\n",
       "      <td>TOSHIBA</td>\n",
       "      <td>3.0TB</td>\n",
       "      <td>201501</td>\n",
       "      <td>201708</td>\n",
       "    </tr>\n",
       "    <tr>\n",
       "      <th>13H7X2HAS</th>\n",
       "      <td>DT01ACA300</td>\n",
       "      <td>3000592982016</td>\n",
       "      <td>2015-12-17</td>\n",
       "      <td>2017-04-26</td>\n",
       "      <td>583</td>\n",
       "      <td>9775</td>\n",
       "      <td>21667</td>\n",
       "      <td>0</td>\n",
       "      <td>TOSHIBA</td>\n",
       "      <td>3.0TB</td>\n",
       "      <td>201512</td>\n",
       "      <td>201704</td>\n",
       "    </tr>\n",
       "    <tr>\n",
       "      <th>13H80PNGS</th>\n",
       "      <td>DT01ACA300</td>\n",
       "      <td>3000592982016</td>\n",
       "      <td>2015-01-01</td>\n",
       "      <td>2015-08-13</td>\n",
       "      <td>225</td>\n",
       "      <td>11765</td>\n",
       "      <td>17138</td>\n",
       "      <td>0</td>\n",
       "      <td>TOSHIBA</td>\n",
       "      <td>3.0TB</td>\n",
       "      <td>201501</td>\n",
       "      <td>201508</td>\n",
       "    </tr>\n",
       "  </tbody>\n",
       "</table>\n",
       "</div>"
      ],
      "text/plain": [
       "                model  capacitybytes    mindate    maxdate  nrecords  \\\n",
       "diskid                                                                 \n",
       "13H2B97AS  DT01ACA300  3000592982016 2015-04-21 2017-07-25       911   \n",
       "13H32WEAS  DT01ACA300  3000592982016 2015-01-01 2017-08-03      1030   \n",
       "13H6A21GS  DT01ACA300  3000592982016 2015-01-01 2017-08-18      1045   \n",
       "13H7X2HAS  DT01ACA300  3000592982016 2015-12-17 2017-04-26       583   \n",
       "13H80PNGS  DT01ACA300  3000592982016 2015-01-01 2015-08-13       225   \n",
       "\n",
       "           minhours  maxhours  failed manufacturer capacity mindateym  \\\n",
       "diskid                                                                  \n",
       "13H2B97AS     10153     29961       0      TOSHIBA    3.0TB    201504   \n",
       "13H32WEAS     14765     37431       0      TOSHIBA    3.0TB    201501   \n",
       "13H6A21GS     14133     37155       0      TOSHIBA    3.0TB    201501   \n",
       "13H7X2HAS      9775     21667       0      TOSHIBA    3.0TB    201512   \n",
       "13H80PNGS     11765     17138       0      TOSHIBA    3.0TB    201501   \n",
       "\n",
       "          maxdateym  \n",
       "diskid               \n",
       "13H2B97AS    201707  \n",
       "13H32WEAS    201708  \n",
       "13H6A21GS    201708  \n",
       "13H7X2HAS    201704  \n",
       "13H80PNGS    201508  "
      ]
     },
     "execution_count": 61,
     "metadata": {},
     "output_type": "execute_result"
    }
   ],
   "source": [
    "df['minhours'] = df['minhours'].astype(np.int64)\n",
    "df['maxhours'] = df['maxhours'].astype(np.int64)\n",
    "df.head()"
   ]
  },
  {
   "cell_type": "code",
   "execution_count": 62,
   "metadata": {},
   "outputs": [
    {
     "data": {
      "image/png": "[encoded data removed]",
      "text/plain": [
       "<matplotlib.figure.Figure at 0x12f9fbba8>"
      ]
     },
     "metadata": {},
     "output_type": "display_data"
    }
   ],
   "source": [
    "ax=df.hist(column='maxhours', by='failed', bins=100, layout=(2,1), log=True, sharex=True, sharey=True)"
   ]
  },
  {
   "cell_type": "code",
   "execution_count": 63,
   "metadata": {
    "collapsed": true
   },
   "outputs": [],
   "source": [
    "# Removing unecessary column\n",
    "del df['capacitybytes']"
   ]
  },
  {
   "cell_type": "code",
   "execution_count": 66,
   "metadata": {},
   "outputs": [
    {
     "name": "stdout",
     "output_type": "stream",
     "text": [
      "(117840, 11)\n"
     ]
    },
    {
     "data": {
      "text/html": [
       "<div>\n",
       "<style>\n",
       "    .dataframe thead tr:only-child th {\n",
       "        text-align: right;\n",
       "    }\n",
       "\n",
       "    .dataframe thead th {\n",
       "        text-align: left;\n",
       "    }\n",
       "\n",
       "    .dataframe tbody tr th {\n",
       "        vertical-align: top;\n",
       "    }\n",
       "</style>\n",
       "<table border=\"1\" class=\"dataframe\">\n",
       "  <thead>\n",
       "    <tr style=\"text-align: right;\">\n",
       "      <th></th>\n",
       "      <th>model</th>\n",
       "      <th>mindate</th>\n",
       "      <th>maxdate</th>\n",
       "      <th>nrecords</th>\n",
       "      <th>minhours</th>\n",
       "      <th>maxhours</th>\n",
       "      <th>failed</th>\n",
       "      <th>manufacturer</th>\n",
       "      <th>capacity</th>\n",
       "      <th>mindateym</th>\n",
       "      <th>maxdateym</th>\n",
       "    </tr>\n",
       "    <tr>\n",
       "      <th>diskid</th>\n",
       "      <th></th>\n",
       "      <th></th>\n",
       "      <th></th>\n",
       "      <th></th>\n",
       "      <th></th>\n",
       "      <th></th>\n",
       "      <th></th>\n",
       "      <th></th>\n",
       "      <th></th>\n",
       "      <th></th>\n",
       "      <th></th>\n",
       "    </tr>\n",
       "  </thead>\n",
       "  <tbody>\n",
       "    <tr>\n",
       "      <th>13H2B97AS</th>\n",
       "      <td>DT01ACA300</td>\n",
       "      <td>2015-04-21</td>\n",
       "      <td>2017-07-25</td>\n",
       "      <td>911</td>\n",
       "      <td>10153</td>\n",
       "      <td>29961</td>\n",
       "      <td>0</td>\n",
       "      <td>TOSHIBA</td>\n",
       "      <td>3.0TB</td>\n",
       "      <td>201504</td>\n",
       "      <td>201707</td>\n",
       "    </tr>\n",
       "    <tr>\n",
       "      <th>13H32WEAS</th>\n",
       "      <td>DT01ACA300</td>\n",
       "      <td>2015-01-01</td>\n",
       "      <td>2017-08-03</td>\n",
       "      <td>1030</td>\n",
       "      <td>14765</td>\n",
       "      <td>37431</td>\n",
       "      <td>0</td>\n",
       "      <td>TOSHIBA</td>\n",
       "      <td>3.0TB</td>\n",
       "      <td>201501</td>\n",
       "      <td>201708</td>\n",
       "    </tr>\n",
       "    <tr>\n",
       "      <th>13H6A21GS</th>\n",
       "      <td>DT01ACA300</td>\n",
       "      <td>2015-01-01</td>\n",
       "      <td>2017-08-18</td>\n",
       "      <td>1045</td>\n",
       "      <td>14133</td>\n",
       "      <td>37155</td>\n",
       "      <td>0</td>\n",
       "      <td>TOSHIBA</td>\n",
       "      <td>3.0TB</td>\n",
       "      <td>201501</td>\n",
       "      <td>201708</td>\n",
       "    </tr>\n",
       "    <tr>\n",
       "      <th>13H7X2HAS</th>\n",
       "      <td>DT01ACA300</td>\n",
       "      <td>2015-12-17</td>\n",
       "      <td>2017-04-26</td>\n",
       "      <td>583</td>\n",
       "      <td>9775</td>\n",
       "      <td>21667</td>\n",
       "      <td>0</td>\n",
       "      <td>TOSHIBA</td>\n",
       "      <td>3.0TB</td>\n",
       "      <td>201512</td>\n",
       "      <td>201704</td>\n",
       "    </tr>\n",
       "    <tr>\n",
       "      <th>13H80PNGS</th>\n",
       "      <td>DT01ACA300</td>\n",
       "      <td>2015-01-01</td>\n",
       "      <td>2015-08-13</td>\n",
       "      <td>225</td>\n",
       "      <td>11765</td>\n",
       "      <td>17138</td>\n",
       "      <td>0</td>\n",
       "      <td>TOSHIBA</td>\n",
       "      <td>3.0TB</td>\n",
       "      <td>201501</td>\n",
       "      <td>201508</td>\n",
       "    </tr>\n",
       "  </tbody>\n",
       "</table>\n",
       "</div>"
      ],
      "text/plain": [
       "                model    mindate    maxdate  nrecords  minhours  maxhours  \\\n",
       "diskid                                                                      \n",
       "13H2B97AS  DT01ACA300 2015-04-21 2017-07-25       911     10153     29961   \n",
       "13H32WEAS  DT01ACA300 2015-01-01 2017-08-03      1030     14765     37431   \n",
       "13H6A21GS  DT01ACA300 2015-01-01 2017-08-18      1045     14133     37155   \n",
       "13H7X2HAS  DT01ACA300 2015-12-17 2017-04-26       583      9775     21667   \n",
       "13H80PNGS  DT01ACA300 2015-01-01 2015-08-13       225     11765     17138   \n",
       "\n",
       "           failed manufacturer capacity mindateym maxdateym  \n",
       "diskid                                                       \n",
       "13H2B97AS       0      TOSHIBA    3.0TB    201504    201707  \n",
       "13H32WEAS       0      TOSHIBA    3.0TB    201501    201708  \n",
       "13H6A21GS       0      TOSHIBA    3.0TB    201501    201708  \n",
       "13H7X2HAS       0      TOSHIBA    3.0TB    201512    201704  \n",
       "13H80PNGS       0      TOSHIBA    3.0TB    201501    201508  "
      ]
     },
     "execution_count": 66,
     "metadata": {},
     "output_type": "execute_result"
    }
   ],
   "source": [
    "print(df.shape)\n",
    "df.describe()\n",
    "df.head()"
   ]
  },
  {
   "cell_type": "code",
   "execution_count": 67,
   "metadata": {
    "collapsed": true
   },
   "outputs": [],
   "source": [
    "# We save the prepared data \n",
    "df.to_sql('drive_survival_prepared', con=cnx, if_exists='replace', index_label='diskid')"
   ]
  },
  {
   "cell_type": "code",
   "execution_count": 20,
   "metadata": {},
   "outputs": [
    {
     "ename": "SyntaxError",
     "evalue": "invalid syntax (<ipython-input-20-eae7f0a6302f>, line 1)",
     "output_type": "error",
     "traceback": [
      "\u001b[0;36m  File \u001b[0;32m\"<ipython-input-20-eae7f0a6302f>\"\u001b[0;36m, line \u001b[0;32m1\u001b[0m\n\u001b[0;31m    $pwd\u001b[0m\n\u001b[0m    ^\u001b[0m\n\u001b[0;31mSyntaxError\u001b[0m\u001b[0;31m:\u001b[0m invalid syntax\n"
     ]
    }
   ],
   "source": []
  },
  {
   "cell_type": "code",
   "execution_count": 68,
   "metadata": {},
   "outputs": [],
   "source": [
    "df.to_csv('../drive_survival_prepared.csv', index=True, index_label='diskid')"
   ]
  },
  {
   "cell_type": "code",
   "execution_count": null,
   "metadata": {
    "collapsed": true
   },
   "outputs": [],
   "source": []
  }
 ],
 "metadata": {
  "kernelspec": {
   "display_name": "Python 3",
   "language": "python",
   "name": "python3"
  },
  "language_info": {
   "codemirror_mode": {
    "name": "ipython",
    "version": 3
   },
   "file_extension": ".py",
   "mimetype": "text/x-python",
   "name": "python",
   "nbconvert_exporter": "python",
   "pygments_lexer": "ipython3",
   "version": "3.6.3"
  }
 },
 "nbformat": 4,
 "nbformat_minor": 2
}
